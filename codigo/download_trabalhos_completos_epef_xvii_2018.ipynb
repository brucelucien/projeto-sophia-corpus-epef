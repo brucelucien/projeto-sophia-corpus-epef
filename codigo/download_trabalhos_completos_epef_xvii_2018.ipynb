{
 "cells": [
  {
   "cell_type": "markdown",
   "metadata": {},
   "source": [
    "# Download dos trabalhos completos do EPEF XVII (2018)"
   ]
  },
  {
   "cell_type": "code",
   "execution_count": 1,
   "metadata": {},
   "outputs": [],
   "source": [
    "from bs4 import BeautifulSoup\n",
    "import requests"
   ]
  },
  {
   "cell_type": "code",
   "execution_count": null,
   "metadata": {},
   "outputs": [],
   "source": [
    "html = requests.get('https://sec.sbfisica.org.br/eventos/epef/xvii/atas/lista_area_01.htm')\n",
    "bs = BeautifulSoup(html.text)\n",
    "links = bs.find_all(lambda tag: tag.getText() == 'Trabalho Completo')\n",
    "cont = 0\n",
    "for link in links:\n",
    "    cont += 1    \n",
    "    endereco_pdf = link.get_attribute_list('href').pop().strip()\n",
    "    nome_pdf = endereco_pdf.split('/')[-1]\n",
    "    pdf = requests.get(endereco_pdf)\n",
    "    prefixo_identificador = '2018-' + str(cont).rjust(3, '0')\n",
    "    with(open( f'../dados/epef_xvii_2018/{prefixo_identificador}-{nome_pdf}', 'wb')) as arquivo:\n",
    "        arquivo.write(pdf.content)"
   ]
  }
 ],
 "metadata": {
  "kernelspec": {
   "display_name": "python-local",
   "language": "python",
   "name": "python3"
  },
  "language_info": {
   "codemirror_mode": {
    "name": "ipython",
    "version": 3
   },
   "file_extension": ".py",
   "mimetype": "text/x-python",
   "name": "python",
   "nbconvert_exporter": "python",
   "pygments_lexer": "ipython3",
   "version": "3.12.3"
  }
 },
 "nbformat": 4,
 "nbformat_minor": 2
}
