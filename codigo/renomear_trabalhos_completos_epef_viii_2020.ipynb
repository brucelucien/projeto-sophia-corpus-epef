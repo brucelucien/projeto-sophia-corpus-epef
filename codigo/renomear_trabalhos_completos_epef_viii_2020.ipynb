{
 "cells": [
  {
   "cell_type": "markdown",
   "metadata": {},
   "source": [
    "# Renomear trabalhos completos do EPEF VIII (2020)"
   ]
  },
  {
   "cell_type": "code",
   "execution_count": 1,
   "metadata": {},
   "outputs": [],
   "source": [
    "import os"
   ]
  },
  {
   "cell_type": "code",
   "execution_count": 2,
   "metadata": {},
   "outputs": [],
   "source": [
    "diretorio = '../dados/epef_xviii_2020/'\n",
    "nomes_arquivos = sorted(os.listdir(diretorio))\n",
    "cont = 0\n",
    "for nome_arquivo in nomes_arquivos:    \n",
    "    cont += 1\n",
    "    prefixo_identificador = '2020-' + str(cont).rjust(3, '0')\n",
    "    novo_nome_arquivo = f'{prefixo_identificador}-{nome_arquivo}'\n",
    "    os.rename(diretorio + nome_arquivo, diretorio + novo_nome_arquivo)"
   ]
  }
 ],
 "metadata": {
  "kernelspec": {
   "display_name": "python-local",
   "language": "python",
   "name": "python3"
  },
  "language_info": {
   "codemirror_mode": {
    "name": "ipython",
    "version": 3
   },
   "file_extension": ".py",
   "mimetype": "text/x-python",
   "name": "python",
   "nbconvert_exporter": "python",
   "pygments_lexer": "ipython3",
   "version": "3.12.3"
  }
 },
 "nbformat": 4,
 "nbformat_minor": 2
}
