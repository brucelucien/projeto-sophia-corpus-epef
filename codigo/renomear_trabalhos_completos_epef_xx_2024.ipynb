{
 "cells": [
  {
   "cell_type": "markdown",
   "metadata": {},
   "source": [
    "# Renomear trabalhos completos do EPEF XX (2024)"
   ]
  },
  {
   "cell_type": "code",
   "execution_count": 3,
   "metadata": {},
   "outputs": [],
   "source": [
    "import os"
   ]
  },
  {
   "cell_type": "code",
   "execution_count": 4,
   "metadata": {},
   "outputs": [],
   "source": [
    "diretorio = '../data/epef_xx_2024/'\n",
    "nomes_arquivos = os.listdir(diretorio)\n",
    "for nome_arquivo in nomes_arquivos:    \n",
    "    sequencial = nome_arquivo.removeprefix('Trabalho').removesuffix('.pdf')\n",
    "    novo_nome_arquivo = '2024-' + str(sequencial).rjust(3, '0') + '.pdf'\n",
    "    os.rename(diretorio + nome_arquivo, diretorio + novo_nome_arquivo)"
   ]
  }
 ],
 "metadata": {
  "kernelspec": {
   "display_name": "python-local",
   "language": "python",
   "name": "python3"
  },
  "language_info": {
   "codemirror_mode": {
    "name": "ipython",
    "version": 3
   },
   "file_extension": ".py",
   "mimetype": "text/x-python",
   "name": "python",
   "nbconvert_exporter": "python",
   "pygments_lexer": "ipython3",
   "version": "3.12.3"
  }
 },
 "nbformat": 4,
 "nbformat_minor": 2
}
