{
 "cells": [
  {
   "cell_type": "markdown",
   "metadata": {},
   "source": [
    "# Download dos trabalhos completos do EPEF XVII (2008)"
   ]
  },
  {
   "cell_type": "code",
   "execution_count": null,
   "metadata": {},
   "outputs": [],
   "source": [
    "from bs4 import BeautifulSoup\n",
    "import requests"
   ]
  },
  {
   "cell_type": "code",
   "execution_count": null,
   "metadata": {},
   "outputs": [],
   "source": [
    "POSICAO_DO_PRIMEIRO_ARQUIVO_A_CONSIDERAR = 1\n",
    "ENDERECO_REMOTO_ARQUIVOS = 'https://sec.sbfisica.org.br/eventos/epef/xi/atas/'\n",
    "html = requests.get('https://sec.sbfisica.org.br/eventos/epef/xi/atas/lista_area_1.htm')\n",
    "bs = BeautifulSoup(html.text)\n",
    "links = bs.find_all('a', class_='link1')\n",
    "cont = 0\n",
    "for link in links:\n",
    "    cont += 1    \n",
    "    if cont >= POSICAO_DO_PRIMEIRO_ARQUIVO_A_CONSIDERAR:\n",
    "        endereco_pdf = ENDERECO_REMOTO_ARQUIVOS + link.get_attribute_list('href').pop().strip()\n",
    "        nome_pdf = endereco_pdf.split('/')[-1]\n",
    "        print('Realizando download do arquivo: ', endereco_pdf)\n",
    "        pdf = requests.get(endereco_pdf)\n",
    "        prefixo_identificador = '2008-' + str(cont).rjust(3, '0')\n",
    "        with(open( f'../dados/epef_xi_2008/{prefixo_identificador}-{nome_pdf}', 'wb')) as arquivo:\n",
    "            arquivo.write(pdf.content)"
   ]
  }
 ],
 "metadata": {
  "kernelspec": {
   "display_name": "python-local",
   "language": "python",
   "name": "python3"
  },
  "language_info": {
   "codemirror_mode": {
    "name": "ipython",
    "version": 3
   },
   "file_extension": ".py",
   "mimetype": "text/x-python",
   "name": "python",
   "nbconvert_exporter": "python",
   "pygments_lexer": "ipython3",
   "version": "3.12.3"
  }
 },
 "nbformat": 4,
 "nbformat_minor": 2
}
